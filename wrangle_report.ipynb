{
 "cells": [
  {
   "cell_type": "markdown",
   "metadata": {},
   "source": [
    "## Reporting: wragle_report\n",
    "* Create a **300-600 word written report** called \"wrangle_report.pdf\" or \"wrangle_report.html\" that briefly describes your wrangling efforts. This is to be framed as an internal document."
   ]
  },
  {
   "cell_type": "markdown",
   "metadata": {},
   "source": [
    "This project's goal is to wrangle WeRateDogs' Twitter data and produce reliable analyses and visuals. Although it only provides very minimal tweet data, the Twitter archive for more than 5000 of their tweets is great. Three alternative procedures were used to fulfill this project assignment because gathering data is not always the same process. Each set of data that was retrieved had different quality and organization difficulties, such as missing delimiters, blank records, blank columns, comments, and header text. Pandas usually gets the job done with a little bit of quick trial and error, but it is best evaluated using a text editor or spreadsheet tool, like Google Sheets or Microsoft Excel."
   ]
  },
  {
   "cell_type": "markdown",
   "metadata": {},
   "source": [
    "For a biased-free, excellent analysis and visusalization, the data chould be cleaning thoroughly by employing good cleaning techniques.\n",
    "Before additional cleaning was performed, the first supplied Enhanced Twitter Archive dataset with 2356 columns and 17 rows was given a bit of attention. The tweet's text is a significant column in the Enhanced Twitter Archive, from which rating, dog name, and dog \"stage\" (i.e. doggo, floofer, pupper, and pupo) were extracted to \"upgrade\" this Twitter archive. The following quality and cleanliness issues have been seen and noted: 1.) missing and irrelevant values (in_reply_to_status_id, in_reply_to_user_id, retweeted_status_id, retweeted_status_user_id and retweeted_status_timestamp, expanded_urls, text and source), 2.) name column has inconsistent format, sentence and lowercase case, 3.) Inaccurate timestamp format. Timestamp and not object, 4.) unconventional names in name column (a, such, this etc.), 5.) duplicated records, and 6.) the repetition of columns of dog stages doggo, floofer, pupper and puppo. Columns with high percentage of missing records were dropped, all records with inconsistent formats were converted to appropriate formats, and repeated columns were melted into a single column using the Pandas melt function resulting to a unique record."
   ]
  },
  {
   "cell_type": "markdown",
   "metadata": {},
   "source": [
    "Twitter retweet and favourite counts were not available in the dataset. As such as obtained programmatically via the Twitter API. The obtained data had a total of 2354 rows and 31 columns. The querried data had the following tidiness issues:\n",
    "1.) created_at has multiple values (Date and Time), 2.) timestamp (date) column should not be object type, and 3.) missing and irrelevant values (in_reply_to_status_id, in_reply_to_status_id_str, in_reply_to_user_id, in_reply_to_user_id_str, in_reply_to_screen_name, geo, coordinates, place, contributors, retweeted_status, quoted_status_id, quoted_status_id_str, quoted_status), 4.) display_text_range has multiple values. For quality and fair report, the data was cleaned."
   ]
  },
  {
   "cell_type": "markdown",
   "metadata": {},
   "source": [
    "Finally, using the provided dataset for image prediction, a neural network capable of classifying dog breeds was used to process each dog image in the WeRateDogs Twitter collection. The result, which has 2075 rows and 12 columns, is a table with simply the top three picture predictions together with each tweet ID, image URL, and image number corresponding to the most accurate prediction (numbered 1 to 4 since tweets can have up to four images). On the surface, this dataset has less quality and cleanliness issues; however, the Image Predictions contain the following issues: 1.) inconsistent formats for p1, p2, p3, some lowercase and others sentence case, 2.) Inconsistent formats: p1,p2,p3 and vague informations, 3.) columns repition: p1,p2,p3,p1_conf,p2_conf,p3_conf,p1_dog,p2_dog,p3_dog. Melting of columns using the Pandas nelt function with similar attribute was invoked, all records with inconsistent records were converted to appropriate formats, and columns with high percentage of missing values were dropped accordingly."
   ]
  }
 ],
 "metadata": {
  "kernelspec": {
   "display_name": "Python 3 (ipykernel)",
   "language": "python",
   "name": "python3"
  },
  "language_info": {
   "codemirror_mode": {
    "name": "ipython",
    "version": 3
   },
   "file_extension": ".py",
   "mimetype": "text/x-python",
   "name": "python",
   "nbconvert_exporter": "python",
   "pygments_lexer": "ipython3",
   "version": "3.9.12"
  }
 },
 "nbformat": 4,
 "nbformat_minor": 2
}
